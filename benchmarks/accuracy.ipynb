{
 "cells": [
  {
   "cell_type": "markdown",
   "id": "f3e4795a9c328818",
   "metadata": {
    "collapsed": false
   },
   "source": [
    "# Accuracy\n",
    "\n",
    "This benchmark focuses on comparing the **accuracy** of pyMultiFit's statistical distributions compared to the well-established ``SciPy`` library.\n",
    "The focus is on ensuring that ``pyMultiFit`` provides reliable results that closely match theoretical values and SciPy outputs, which are widely trusted in the scientific community.\n",
    "\n",
    "## What is Tested?\n",
    "\n",
    "- Probability Density Function (PDF): Compares the computed values for given inputs against the expected results and SciPy outputs.\n",
    "- Cumulative Distribution Function (CDF): Verifies that cumulative probabilities match theoretical predictions and SciPy results.\n",
    "\n",
    "## Benchmark setup\n",
    "\n",
    "To test accuracy:\n",
    "\n",
    "- Both ``pyMultiFit`` and SciPy are run on the same input data, using distributions like Gaussian, Beta, and Laplace.\n",
    "- Results are compared using metrics such as absolute error, relative error, and visual plots.\n",
    "- A range of parameter values and edge cases are included to evaluate robustness and consistency."
   ]
  },
  {
   "cell_type": "markdown",
   "id": "174bbc62-2644-4ed9-bd37-a803b2440b40",
   "metadata": {},
   "source": [
    "# Testing"
   ]
  },
  {
   "cell_type": "code",
   "execution_count": 1,
   "id": "ab21015cf54916ed",
   "metadata": {
    "ExecuteTime": {
     "end_time": "2025-01-13T07:07:10.162795Z",
     "start_time": "2025-01-13T07:07:08.888950Z"
    },
    "collapsed": false
   },
   "outputs": [],
   "source": [
    "import numpy as np\n",
    "import scipy.stats as ss\n",
    "\n",
    "from pymultifit import EPSILON\n",
    "import pymultifit.distributions as pd\n",
    "from functions import test_and_plot"
   ]
  },
  {
   "cell_type": "code",
   "execution_count": 2,
   "id": "b458f83f34e6abb6",
   "metadata": {
    "ExecuteTime": {
     "end_time": "2025-01-13T07:07:10.172427Z",
     "start_time": "2025-01-13T07:07:10.166586Z"
    },
    "collapsed": false
   },
   "outputs": [],
   "source": [
    "np.random.seed(43)"
   ]
  },
  {
   "cell_type": "code",
   "execution_count": 3,
   "id": "bae3287c43555a7a",
   "metadata": {
    "ExecuteTime": {
     "end_time": "2025-01-13T07:07:10.184058Z",
     "start_time": "2025-01-13T07:07:10.176302Z"
    },
    "collapsed": false
   },
   "outputs": [],
   "source": [
    "edge_cases = [np.array([EPSILON, 1e-10, 1e-5, 1, 1e2, 1e3, 1e4, 1e5, 1e7, 0.5e8, 1e10])]\n",
    "general_cases = [np.logspace(-10, 10, 5_000)]"
   ]
  },
  {
   "cell_type": "markdown",
   "id": "3832a3a99c3f1266",
   "metadata": {
    "collapsed": false
   },
   "source": [
    "## norm(loc=0, scale=1)"
   ]
  },
  {
   "cell_type": "code",
   "execution_count": null,
   "id": "46e9172b7eb24f8c",
   "metadata": {
    "ExecuteTime": {
     "end_time": "2025-01-13T07:07:13.650874Z",
     "start_time": "2025-01-13T07:07:10.187866Z"
    },
    "collapsed": false
   },
   "outputs": [],
   "source": [
    "custom_dist = pd.GaussianDistribution(normalize=True)\n",
    "scipy_dist = ss.norm()\n",
    "\n",
    "test_and_plot(general_case=general_cases, edge_case=edge_cases, custom_dist=custom_dist, scipy_dist=scipy_dist,\n",
    "              title=\"Gaussian N(0, 1)\")"
   ]
  },
  {
   "cell_type": "markdown",
   "id": "ba5472511ffadde1",
   "metadata": {
    "collapsed": false
   },
   "source": [
    "## norm(loc=3, scale=0.1)"
   ]
  },
  {
   "cell_type": "code",
   "execution_count": null,
   "id": "e1b5857000bb40a7",
   "metadata": {
    "ExecuteTime": {
     "end_time": "2025-01-13T07:07:16.141237Z",
     "start_time": "2025-01-13T07:07:13.654924Z"
    }
   },
   "outputs": [],
   "source": [
    "custom_dist = pd.GaussianDistribution(mu=3, std=0.1, normalize=True)\n",
    "scipy_dist = ss.norm(loc=3, scale=0.1)\n",
    "\n",
    "test_and_plot(general_case=general_cases, edge_case=edge_cases, custom_dist=custom_dist, scipy_dist=scipy_dist,\n",
    "              title='Gaussian N(3, 0.1)')"
   ]
  },
  {
   "cell_type": "markdown",
   "id": "bc1f11238ae1ee72",
   "metadata": {},
   "source": [
    "## laplace(loc=0, scale=1)"
   ]
  },
  {
   "cell_type": "code",
   "execution_count": null,
   "id": "f36584d5-7a77-44b4-9793-b0029a690d39",
   "metadata": {
    "ExecuteTime": {
     "end_time": "2025-01-13T07:07:18.302449Z",
     "start_time": "2025-01-13T07:07:16.143998Z"
    }
   },
   "outputs": [],
   "source": [
    "custom_dist = pd.LaplaceDistribution(normalize=True)\n",
    "scipy_dist = ss.laplace()\n",
    "\n",
    "test_and_plot(general_case=general_cases, edge_case=edge_cases, custom_dist=custom_dist, scipy_dist=scipy_dist,\n",
    "              title='Laplace L(0, 1)')"
   ]
  },
  {
   "cell_type": "markdown",
   "id": "1e1f677a-9172-46eb-80fa-2025e5a6d52a",
   "metadata": {},
   "source": [
    "## laplace(loc=-3, scale=3)"
   ]
  },
  {
   "cell_type": "code",
   "execution_count": null,
   "id": "bf1f3e4c-465e-481f-bcf0-e1b52eaa489e",
   "metadata": {
    "ExecuteTime": {
     "end_time": "2025-01-13T07:07:20.242967Z",
     "start_time": "2025-01-13T07:07:18.304434Z"
    }
   },
   "outputs": [],
   "source": [
    "custom_dist = pd.LaplaceDistribution(mean=-3, diversity=3, normalize=True)\n",
    "scipy_dist = ss.laplace(loc=-3, scale=3)\n",
    "\n",
    "test_and_plot(general_case=general_cases, edge_case=edge_cases, custom_dist=custom_dist, scipy_dist=scipy_dist,\n",
    "              title='Laplace(-3, 3)')"
   ]
  },
  {
   "cell_type": "markdown",
   "id": "7a6b7db7-4403-4b53-bb2f-3b547f499f5e",
   "metadata": {},
   "source": [
    "## skewnorm(a=1, loc=0, scale=1)"
   ]
  },
  {
   "cell_type": "code",
   "execution_count": null,
   "id": "eb3afc57-0a60-409e-b3a3-d0c420682a42",
   "metadata": {
    "ExecuteTime": {
     "end_time": "2025-01-13T07:07:22.361987Z",
     "start_time": "2025-01-13T07:07:20.244799Z"
    }
   },
   "outputs": [],
   "source": [
    "custom_dist = pd.SkewNormalDistribution(normalize=True)\n",
    "scipy_dist = ss.skewnorm(a=1)\n",
    "\n",
    "test_and_plot(general_case=general_cases, edge_case=edge_cases, custom_dist=custom_dist, scipy_dist=scipy_dist,\n",
    "              title='SkewNorm S(1, 0, 1)')"
   ]
  },
  {
   "cell_type": "markdown",
   "id": "e29559a6-3b9b-4bc2-b049-b084936580f4",
   "metadata": {},
   "source": [
    "## skewnorm(a=3, loc=-3, scale=0.5)"
   ]
  },
  {
   "cell_type": "code",
   "execution_count": null,
   "id": "ee98b5e0936cef63",
   "metadata": {
    "ExecuteTime": {
     "end_time": "2025-01-13T07:07:24.574205Z",
     "start_time": "2025-01-13T07:07:22.365324Z"
    }
   },
   "outputs": [],
   "source": [
    "custom_dist = pd.SkewNormalDistribution(shape=3, location=-3, scale=0.5, normalize=True)\n",
    "scipy_dist = ss.skewnorm(a=3, loc=-3, scale=0.5)\n",
    "\n",
    "test_and_plot(general_case=general_cases, edge_case=edge_cases, custom_dist=custom_dist, scipy_dist=scipy_dist,\n",
    "              title='SkewNorm S(3, -3, 0.5)')"
   ]
  },
  {
   "cell_type": "markdown",
   "id": "47b5f861-c2a2-4140-9c23-d1d085330895",
   "metadata": {},
   "source": [
    "## lognorm(s=1, loc=0, scale=1)"
   ]
  },
  {
   "cell_type": "code",
   "execution_count": null,
   "id": "680ec944-f9c7-49c2-ae92-aa20ab2ae4a0",
   "metadata": {
    "ExecuteTime": {
     "end_time": "2025-01-13T07:07:26.442745Z",
     "start_time": "2025-01-13T07:07:24.580918Z"
    }
   },
   "outputs": [],
   "source": [
    "custom_dist = pd.LogNormalDistribution(mu=1, std=1, loc=0, normalize=True)\n",
    "scipy_dist = ss.lognorm(s=1, loc=0, scale=1)\n",
    "\n",
    "test_and_plot(general_case=general_cases, edge_case=edge_cases, custom_dist=custom_dist, scipy_dist=scipy_dist,\n",
    "              title='LogNorm L(1, 0, 1)')"
   ]
  },
  {
   "cell_type": "markdown",
   "id": "2df6a274904cc9e3",
   "metadata": {},
   "source": [
    "## lognorm(s=3, loc=-5, scale=0.5)"
   ]
  },
  {
   "cell_type": "code",
   "execution_count": null,
   "id": "94a8762394e8979d",
   "metadata": {
    "ExecuteTime": {
     "end_time": "2025-01-13T07:07:28.779983Z",
     "start_time": "2025-01-13T07:07:26.444962Z"
    }
   },
   "outputs": [],
   "source": [
    "custom_dist = pd.LogNormalDistribution(mu=0.5, std=3, loc=-5, normalize=True)\n",
    "scipy_dist = ss.lognorm(s=3, loc=-5, scale=0.5)\n",
    "\n",
    "test_and_plot(general_case=general_cases, edge_case=edge_cases, custom_dist=custom_dist, scipy_dist=scipy_dist,\n",
    "              title='LogNorm L(3, -5, 0.5)')"
   ]
  },
  {
   "cell_type": "markdown",
   "id": "69064936-68fe-436e-9fd4-779ef91b3fb0",
   "metadata": {},
   "source": [
    "## beta(a=1, b=1)"
   ]
  },
  {
   "cell_type": "code",
   "execution_count": null,
   "id": "a0f3b409-5d3e-493e-a24f-e75fb94d4725",
   "metadata": {
    "ExecuteTime": {
     "end_time": "2025-01-13T07:07:30.425797Z",
     "start_time": "2025-01-13T07:07:28.783082Z"
    }
   },
   "outputs": [],
   "source": [
    "custom_dist = pd.BetaDistribution(alpha=1, beta=1, normalize=True)\n",
    "scipy_dist = ss.beta(a=1, b=1)\n",
    "\n",
    "test_and_plot(general_case=general_cases, edge_case=edge_cases, custom_dist=custom_dist, scipy_dist=scipy_dist,\n",
    "              title='Beta B(1, 1)')"
   ]
  },
  {
   "cell_type": "markdown",
   "id": "7cdeddd6-1bd4-4a74-a7bc-0d2287a40d8b",
   "metadata": {},
   "source": [
    "## beta(a=5, b=80, loc=-3, scale=5)"
   ]
  },
  {
   "cell_type": "code",
   "execution_count": null,
   "id": "cd205d74-0fc6-4ddc-a740-85258aeccfd8",
   "metadata": {
    "ExecuteTime": {
     "end_time": "2025-01-13T07:07:32.210264Z",
     "start_time": "2025-01-13T07:07:30.428044Z"
    }
   },
   "outputs": [],
   "source": [
    "custom_dist = pd.BetaDistribution(alpha=5, beta=80, loc=-3, scale=5.6, normalize=True)\n",
    "scipy_dist = ss.beta(a=5, b=80, loc=-3, scale=5.6)\n",
    "\n",
    "test_and_plot(general_case=general_cases, edge_case=edge_cases, custom_dist=custom_dist, scipy_dist=scipy_dist,\n",
    "              title='Beta B(5, 80, -3, 5.6)')"
   ]
  },
  {
   "cell_type": "markdown",
   "id": "d2ccfbfd-c7d5-4b81-a745-c101f90b8732",
   "metadata": {},
   "source": [
    "## arcsine()"
   ]
  },
  {
   "cell_type": "code",
   "execution_count": null,
   "id": "a94d203f-63de-4d24-be65-92a0e1cc6b34",
   "metadata": {
    "ExecuteTime": {
     "end_time": "2025-01-13T07:07:33.923533Z",
     "start_time": "2025-01-13T07:07:32.211913Z"
    }
   },
   "outputs": [],
   "source": [
    "custom_dist = pd.ArcSineDistribution(normalize=True)\n",
    "scipy_dist = ss.arcsine()\n",
    "\n",
    "test_and_plot(general_case=general_cases, edge_case=edge_cases, custom_dist=custom_dist, scipy_dist=scipy_dist,\n",
    "              title='ArcSine AS()')"
   ]
  },
  {
   "cell_type": "markdown",
   "id": "860d7b3f-c4b0-4c85-8547-a415c2dfabf8",
   "metadata": {},
   "source": [
    "## arcsine(loc=3, scale=2.2)"
   ]
  },
  {
   "cell_type": "code",
   "execution_count": null,
   "id": "250f9444-1091-4c40-ac1c-522ad41dab4c",
   "metadata": {
    "ExecuteTime": {
     "end_time": "2025-01-13T07:07:36.067030Z",
     "start_time": "2025-01-13T07:07:33.925900Z"
    }
   },
   "outputs": [],
   "source": [
    "custom_dist = pd.ArcSineDistribution(loc=3, scale=2.2, normalize=True)\n",
    "scipy_dist = ss.arcsine(loc=3, scale=2.2)\n",
    "\n",
    "test_and_plot(general_case=general_cases, edge_case=edge_cases, custom_dist=custom_dist, scipy_dist=scipy_dist,\n",
    "              title='ArcSine AS(3, 2.2)')"
   ]
  },
  {
   "cell_type": "markdown",
   "id": "4f00d457-6dfb-4c3a-9b35-68985a5a81a4",
   "metadata": {},
   "source": [
    "## gamma(a=1, loc=0, scale=1)"
   ]
  },
  {
   "cell_type": "code",
   "execution_count": null,
   "id": "76fea7ed-35ad-471f-8200-29a9d8b92edf",
   "metadata": {
    "ExecuteTime": {
     "end_time": "2025-01-13T07:07:37.727436Z",
     "start_time": "2025-01-13T07:07:36.069339Z"
    }
   },
   "outputs": [],
   "source": [
    "custom_dist = pd.GammaDistributionSS(shape=1, scale=1, loc=0, normalize=True)\n",
    "scipy_dist = ss.gamma(a=1, loc=0, scale=1)\n",
    "\n",
    "test_and_plot(general_case=general_cases, edge_case=edge_cases, custom_dist=custom_dist, scipy_dist=scipy_dist,\n",
    "              title='Gamma G(1, 0, 1)')"
   ]
  },
  {
   "cell_type": "markdown",
   "id": "80e6efe8-1142-4e25-a46e-afc27257fcba",
   "metadata": {},
   "source": [
    "## gamma(a=1.27, loc=-3, scale=1.5)"
   ]
  },
  {
   "cell_type": "code",
   "execution_count": null,
   "id": "53e545a0-c055-4057-b719-453f732921f8",
   "metadata": {
    "ExecuteTime": {
     "end_time": "2025-01-13T07:07:39.649738Z",
     "start_time": "2025-01-13T07:07:37.729146Z"
    }
   },
   "outputs": [],
   "source": [
    "custom_dist = pd.GammaDistributionSS(shape=1.27, scale=1.5, loc=-3, normalize=True)\n",
    "scipy_dist = ss.gamma(a=1.27, loc=-3, scale=1.5)\n",
    "\n",
    "test_and_plot(general_case=general_cases, edge_case=edge_cases, custom_dist=custom_dist, scipy_dist=scipy_dist,\n",
    "              title='Gamma G(1.27, -3, 1.5)')"
   ]
  },
  {
   "cell_type": "markdown",
   "id": "c43d1aef-6bb9-4d0b-aa27-66db4c55deaa",
   "metadata": {},
   "source": [
    "## $\\chi^2$(dof=1)"
   ]
  },
  {
   "cell_type": "code",
   "execution_count": null,
   "id": "d0b84fae-c5f8-4c2b-9bc8-cda7b935fcdb",
   "metadata": {
    "ExecuteTime": {
     "end_time": "2025-01-13T07:07:41.321791Z",
     "start_time": "2025-01-13T07:07:39.651433Z"
    }
   },
   "outputs": [],
   "source": [
    "custom_dist = pd.ChiSquareDistribution(degree_of_freedom=1, normalize=True)\n",
    "scipy_dist = ss.chi2(df=1)\n",
    "\n",
    "test_and_plot(general_case=general_cases, edge_case=edge_cases, custom_dist=custom_dist, scipy_dist=scipy_dist,\n",
    "              title='Chi2 C(1)')"
   ]
  },
  {
   "cell_type": "markdown",
   "id": "01830c13-a63a-43b5-a620-2d6cc08218f7",
   "metadata": {},
   "source": [
    "## $\\chi^2$(dof=2, loc=-2.3, scale=0.3)"
   ]
  },
  {
   "cell_type": "code",
   "execution_count": null,
   "id": "68d06097-9b13-420e-b89a-55240ac9629f",
   "metadata": {
    "ExecuteTime": {
     "end_time": "2025-01-13T07:07:43.599859Z",
     "start_time": "2025-01-13T07:07:41.324041Z"
    }
   },
   "outputs": [],
   "source": [
    "custom_dist = pd.ChiSquareDistribution(degree_of_freedom=2, loc=-2.3, scale=0.3, normalize=True)\n",
    "scipy_dist = ss.chi2(df=2, loc=-2.3, scale=0.3)\n",
    "\n",
    "test_and_plot(general_case=general_cases, edge_case=edge_cases, custom_dist=custom_dist, scipy_dist=scipy_dist,\n",
    "              title='Chi2 C(2, -2.3, 0.3)')"
   ]
  },
  {
   "cell_type": "markdown",
   "id": "8e1722df-39a0-44a8-abfb-ad92e3e4465a",
   "metadata": {},
   "source": [
    "## $\\chi^2$(dof=2.5, loc=-2.3, scale=0.3)"
   ]
  },
  {
   "cell_type": "code",
   "execution_count": null,
   "id": "d7820f1f-d42d-4045-80d0-20e02536e964",
   "metadata": {
    "ExecuteTime": {
     "end_time": "2025-01-13T07:07:45.368307Z",
     "start_time": "2025-01-13T07:07:43.602480Z"
    }
   },
   "outputs": [],
   "source": [
    "custom_dist = pd.ChiSquareDistribution(degree_of_freedom=2.5, loc=-2.3, scale=0.3, normalize=True)\n",
    "scipy_dist = ss.chi2(df=2.5, loc=-2.3, scale=0.3)\n",
    "\n",
    "test_and_plot(general_case=general_cases, edge_case=edge_cases, custom_dist=custom_dist, scipy_dist=scipy_dist,\n",
    "              title='Chi2 C(2.5, -2.3, 0.3)')"
   ]
  },
  {
   "cell_type": "markdown",
   "id": "6c0def28-7826-40ca-805d-84457b9e069f",
   "metadata": {},
   "source": [
    "## foldnorm(mean=2)"
   ]
  },
  {
   "cell_type": "code",
   "execution_count": null,
   "id": "03232153-2691-43d6-88e9-581f922bd579",
   "metadata": {
    "ExecuteTime": {
     "end_time": "2025-01-13T07:07:47.104310Z",
     "start_time": "2025-01-13T07:07:45.370015Z"
    }
   },
   "outputs": [],
   "source": [
    "custom_dist = pd.FoldedNormalDistribution(mu=2, normalize=True)\n",
    "scipy_dist = ss.foldnorm(c=2)\n",
    "\n",
    "test_and_plot(general_case=general_cases, edge_case=edge_cases, custom_dist=custom_dist, scipy_dist=scipy_dist,\n",
    "              title='FoldNormal FN(2)')"
   ]
  },
  {
   "cell_type": "markdown",
   "id": "ee5ef83f-2442-4ef2-a0c3-1f244de826cc",
   "metadata": {},
   "source": [
    "## foldnorm(mean=2, loc=1.4, scale=4)"
   ]
  },
  {
   "cell_type": "code",
   "execution_count": null,
   "id": "ce902863-b8ff-417d-b070-facc897f0a4a",
   "metadata": {
    "ExecuteTime": {
     "end_time": "2025-01-13T07:07:48.731907Z",
     "start_time": "2025-01-13T07:07:47.106121Z"
    }
   },
   "outputs": [],
   "source": [
    "custom_dist = pd.FoldedNormalDistribution(mu=2, sigma=4, loc=1.4, normalize=True)\n",
    "scipy_dist = ss.foldnorm(c=2, loc=1.4, scale=4)\n",
    "\n",
    "test_and_plot(general_case=general_cases, edge_case=edge_cases, custom_dist=custom_dist, scipy_dist=scipy_dist,\n",
    "              title='FoldNormal FN(2, 1.4, 4)')"
   ]
  },
  {
   "cell_type": "markdown",
   "id": "9ca0fe06-e7ac-4bb7-9402-228e9c872c2d",
   "metadata": {},
   "source": [
    "## halfNormal(scale=2)"
   ]
  },
  {
   "cell_type": "code",
   "execution_count": null,
   "id": "93363964-996c-4aa6-89b6-de089bbcea19",
   "metadata": {
    "ExecuteTime": {
     "end_time": "2025-01-13T07:07:50.877281Z",
     "start_time": "2025-01-13T07:07:48.733653Z"
    }
   },
   "outputs": [],
   "source": [
    "custom_dist = pd.HalfNormalDistribution(scale=2, normalize=True)\n",
    "scipy_dist = ss.halfnorm(scale=2)\n",
    "\n",
    "test_and_plot(general_case=general_cases, edge_case=edge_cases, custom_dist=custom_dist, scipy_dist=scipy_dist,\n",
    "              title='HalfNormal HN(2)')"
   ]
  },
  {
   "cell_type": "markdown",
   "id": "ba01ba7e-6a47-4139-a424-342cb760783b",
   "metadata": {},
   "source": [
    "## halfnorm(loc=-3, scale=1.3)"
   ]
  },
  {
   "cell_type": "code",
   "execution_count": null,
   "id": "4d0520aa-9940-469f-a82c-906541d713ea",
   "metadata": {
    "ExecuteTime": {
     "end_time": "2025-01-13T07:07:52.954460Z",
     "start_time": "2025-01-13T07:07:50.879440Z"
    }
   },
   "outputs": [],
   "source": [
    "custom_dist = pd.HalfNormalDistribution(loc=-3, scale=1.3, normalize=True)\n",
    "scipy_dist = ss.halfnorm(loc=-3, scale=1.3)\n",
    "\n",
    "test_and_plot(general_case=general_cases, edge_case=edge_cases, custom_dist=custom_dist, scipy_dist=scipy_dist,\n",
    "              title='HalfNormal HN(-3, 1.3)')"
   ]
  },
  {
   "cell_type": "markdown",
   "id": "0b487c6c-17f6-46b0-8853-2066042c0fa3",
   "metadata": {},
   "source": [
    "## expon(scale=1.4)"
   ]
  },
  {
   "cell_type": "code",
   "execution_count": null,
   "id": "a5cc0d11-e1fe-41e5-884b-d4b1e3503b96",
   "metadata": {
    "ExecuteTime": {
     "end_time": "2025-01-13T07:07:54.679877Z",
     "start_time": "2025-01-13T07:07:52.956681Z"
    }
   },
   "outputs": [],
   "source": [
    "custom_dist = pd.ExponentialDistribution(scale=1.4, normalize=True)\n",
    "scipy_dist = ss.expon(scale=1/1.4)\n",
    "\n",
    "test_and_plot(general_case=general_cases, edge_case=edge_cases, custom_dist=custom_dist, scipy_dist=scipy_dist,\n",
    "              title='Exponential Exp(2)')"
   ]
  },
  {
   "cell_type": "markdown",
   "id": "28cd6f1a-714c-4c07-8bb7-4e077b2b00a8",
   "metadata": {},
   "source": [
    "## expon(loc=-3, scale=1.4)"
   ]
  },
  {
   "cell_type": "code",
   "execution_count": null,
   "id": "cefb2f89-fa29-4aa3-9387-38ed208f0a3e",
   "metadata": {
    "ExecuteTime": {
     "end_time": "2025-01-13T07:07:56.481017Z",
     "start_time": "2025-01-13T07:07:54.682042Z"
    }
   },
   "outputs": [],
   "source": [
    "custom_dist = pd.ExponentialDistribution(scale=1.4, loc=-3, normalize=True)\n",
    "scipy_dist = ss.expon(scale=1/1.4, loc=-3)\n",
    "\n",
    "test_and_plot(general_case=general_cases, edge_case=edge_cases, custom_dist=custom_dist, scipy_dist=scipy_dist,\n",
    "              title='Exponential Exp(1.4, -3)')"
   ]
  }
 ],
 "metadata": {
  "kernelspec": {
   "display_name": "multifit",
   "language": "python",
   "name": "python3"
  },
  "language_info": {
   "codemirror_mode": {
    "name": "ipython",
    "version": 3
   },
   "file_extension": ".py",
   "mimetype": "text/x-python",
   "name": "python",
   "nbconvert_exporter": "python",
   "pygments_lexer": "ipython3",
   "version": "3.10.16"
  }
 },
 "nbformat": 4,
 "nbformat_minor": 5
}
