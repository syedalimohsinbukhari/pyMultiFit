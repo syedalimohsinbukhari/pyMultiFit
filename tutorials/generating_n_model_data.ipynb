{
 "cells": [
  {
   "metadata": {},
   "cell_type": "markdown",
   "source": [
    "# Generating N-Gaussian data\n",
    "\n",
    "In the previous tutorial, we learned how to generate **Gaussian** data using the **GaussianDistribution** class. For this tutorial we'll be looking at generating _N_ Gaussian models simultaneously.\n",
    "\n",
    "To do this, we can use the **generators** module from `pyMultiFit` library,"
   ],
   "id": "cf8f577cfd24d5bf"
  },
  {
   "metadata": {
    "ExecuteTime": {
     "end_time": "2024-12-20T06:23:49.502310Z",
     "start_time": "2024-12-20T06:23:49.051847Z"
    }
   },
   "cell_type": "code",
   "source": "from pymultifit.generators import multi_gaussian",
   "id": "66b5d5d1bfe0a56d",
   "outputs": [],
   "execution_count": 1
  },
  {
   "metadata": {},
   "cell_type": "markdown",
   "source": "Let's say we want to generate 3 Gaussian distributions with $\\mu_i = [-3, 1, 5]$ and $\\sigma_i = [0.1, 0.5, 1]$, we can pass",
   "id": "2daea91960facaf6"
  },
  {
   "metadata": {},
   "cell_type": "code",
   "outputs": [],
   "execution_count": null,
   "source": "",
   "id": "d47145efc936eeef"
  }
 ],
 "metadata": {
  "kernelspec": {
   "display_name": "Python 3",
   "language": "python",
   "name": "python3"
  },
  "language_info": {
   "codemirror_mode": {
    "name": "ipython",
    "version": 2
   },
   "file_extension": ".py",
   "mimetype": "text/x-python",
   "name": "python",
   "nbconvert_exporter": "python",
   "pygments_lexer": "ipython2",
   "version": "2.7.6"
  }
 },
 "nbformat": 4,
 "nbformat_minor": 5
}
